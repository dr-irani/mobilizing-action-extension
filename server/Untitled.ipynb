{
 "cells": [
  {
   "cell_type": "code",
   "execution_count": 1,
   "metadata": {},
   "outputs": [],
   "source": [
    "from bs4 import BeautifulSoup\n",
    "from bs4.element import Comment\n",
    "import urllib.request"
   ]
  },
  {
   "cell_type": "code",
   "execution_count": 5,
   "metadata": {},
   "outputs": [],
   "source": [
    "def tag_visible(element):\n",
    "    if element.parent.name in ['style', 'script', 'head', 'title', 'meta', '[document]']:\n",
    "        return False\n",
    "    if isinstance(element, Comment):\n",
    "        return False\n",
    "    return True\n",
    "\n",
    "def main():\n",
    "    html = urllib.request.urlopen('http://www.nytimes.com/2009/12/21/us/21storm.html').read()\n",
    "    soup = BeautifulSoup(html, 'html.parser')\n",
    "    texts = soup.findAll(text=True)\n",
    "    article_text = filter(tag_visible, texts)\n",
    "    print(u\" \".join(t.strip() for t in article_text))"
   ]
  },
  {
   "cell_type": "code",
   "execution_count": 6,
   "metadata": {},
   "outputs": [
    {
     "name": "stdout",
     "output_type": "stream",
     "text": [
      "   Sections SEARCH Skip to content Skip to site index U.S. Log In Log In Today’s Paper U.S. | Storm Finally Exits a Snow-Covered East Coast Advertisement Continue reading the main story Supported by Continue reading the main story Storm Finally Exits a Snow-Covered East Coast David Hom dug out the first of several cars covered with snow in front of his home in Sea Cliff, N.Y., on the North Shore of Long Island. Credit... Kathy Kmonicek/Associated Press By  Joseph Berger Dec. 20, 2009 See how this article appeared when it was originally published on NYTimes.com. A high-octane snowstorm that played havoc with travel across the East Coast, from commuter trains to jumbo jets, vanished out to sea Sunday afternoon, leaving millions of people with the stunned feeling they had been hit by an avalanche. By Sunday morning, the storm had dropped two feet of snow in parts of Long Island, crippling highways and commuter trains and marooning 150 early morning riders near Farmingdale, N.Y., for more five hours while drifts piled up around them. More than 800 flights at the three major New York City Airports were canceled even after the runways and taxiways were plowed. The southern suburbs of Boston were also hard hit with some spots, accumulating 20 inches of snow before the storm headed off the coast of Cape Cod. Washington, which seldom gets much snow, broke its December record, with 16 inches at Reagan National Airport. And Philadelphia had its second largest snowfall, 23.2 inches, since it began keeping records in 1884. “It stacks up as a memorable snowstorm,” said Fred Gadomski, a meteorologist at Penn State University, citing places like Long Island that will not soon forget the mayhem it caused. Airports were slowly struggling back to a semblance of normalcy. By Sunday morning, Dulles International outside Washington was handling arriving flights while still plowing away a thick blanket of snow, and Baltimore-Washington International Airport was trying to restore full operations. Yet in New York and Boston, far more accumstomed to such weather and given plenty of advanced notice, the storm was not as bad as feared. In fact, a little more than 10 inches fell in Central Park  an ordinary winter’s wallop. The storm also dampened merchants’ hopes for a robust weekend before Christmas. Malls in New Jersey, for example, were less teeming than usual on such a weekend. But Mayor Michael R. Bloomberg said that New York retailers might have been spared because the snow did not fall heavily until Saturday night. The storm hit two days before the start of winter, the shortest day of the year. Mr. Gadomski said that an unusual amount of arctic air in the Central United States and Canada was greeted by a moisture laden storm that came up from Florida and the encounter produced a powerful cocktail of wind and snow, particularly on its southern edge. Hundreds of thousands of people lost power as the storm swept eastward on Friday and Saturday, including 135,000 customers in West Virginia served by Appalachian Power, a division of American Electric Power. That company also reported 19,456 outages in Tennessee on Saturday afternoon, and its Kentucky division reported 69,400 in that state. Laura Southard, of Virginia’s Department of Emergency Management, said at least 71,000 were without power on Saturday afternoon. In parts of western North Carolina, where the storm struck Friday evening, more than 60,000 customers were without power on Saturday. Transportation was disrupted all along the coast, causing thousands of flights to be canceled across the country, knocking out power lines and stranding motorists during the peak of the holiday shopping and travel season. Greyhound canceled service on 294 routes through Maryland, Virginia, West Virginia and Washington, D.C., and discontinued service in and out of New York City around 8 p.m. Saturday, said Maureen Richmond, a spokeswoman. Amtrak reported Sunday that some regularly scheduled trains were still canceled. The mayor of Washington, Adrian M. Fenty, declared a snow emergency, following the state of emergency that Gov. Tim Kaine of Virginia declared on Friday in advance of the storm. By Saturday afternoon, Gov. Martin O’Malley of Maryland, Gov. Steve Beshear of Kentucky, Gov. Joe Manchin of West Virginia and Mayor Michael A. Nutter of Philadelphia had also declared emergencies. The deaths of at least five people  three in Virginia and two in Ohio in traffic accidents or through exposure  were blamed on the storm, according to a count kept by Associated Press. In New York City, Mr. Bloomberg said in a morning news conference that no one was injured as a result of the storm. The city provided free sleds and hot chocolate at selected sledding hills to those who wanted to capitalize on what for many had been a sobering experience. For instance, because Long Island was closer to the supply of moisture, Mr. Gadomski said, it was struck by a far heavier snowfall. At least one branch of the Long Island Rail Road was shut down for much of Sunday, and others were hit with “extremely limited” service. Possibly the worst of the delays jangled nerves for 150 pre-dawn commuters on the 2:53 a.m. train from Penn Station. It was due in to Ronkonkoma at 4:14 a.m. but was stranded for several hours  the Associated Press said more than five  by a combination of snow drifts, ice and failures of equipment. It had to be towed to a nearby station. Advertisement Continue reading the main story Site Index Go to Home Page » news home page world U.S. politics Election 2020 New York business tech science climate sports obituaries the upshot Español 中文网 today's paper corrections opinion today's opinion op-ed columnists editorials op-ed Contributors letters sunday review video: opinion arts today's arts art & design books dance movies music Pop Culture television theater watching video: arts living automobiles Cooking crossword education food health jobs magazine parenting real estate style t magazine travel love listings & more Reader Center Wirecutter Live Events The Learning Network tools & services N.Y.C. events guide multimedia photography video Newsletters NYT store times journeys manage my account news home page world U.S. politics Election 2020 New York business tech science climate sports obituaries the upshot Español 中文网 today's paper corrections opinion today's opinion op-ed columnists editorials op-ed Contributors letters sunday review video: opinion arts today's arts art & design books dance movies music Pop Culture television theater watching video: arts living automobiles Cooking crossword education food health jobs magazine parenting real estate style t magazine travel love more Reader Center Wirecutter Live Events The Learning Network tools & services N.Y.C. events guide multimedia photography video Newsletters NYT store times journeys manage my account Subscribe home delivery digital subscriptions Crossword Cooking email newsletters corporate subscriptions education rate mobile applications replica edition Español 中文网 Site Information Navigation © 2020  The New York Times Company NYTCo Contact Us Work with us Advertise T Brand Studio Your Ad Choices Privacy Terms of Service Terms of Sale Site Map Help Subscriptions                  \n"
     ]
    }
   ],
   "source": [
    "main()"
   ]
  },
  {
   "cell_type": "code",
   "execution_count": 2,
   "metadata": {},
   "outputs": [],
   "source": [
    "from collections import defaultdict\n",
    "import numpy as np"
   ]
  },
  {
   "cell_type": "code",
   "execution_count": 22,
   "metadata": {},
   "outputs": [
    {
     "data": {
      "text/plain": [
       "{'a': 0, 'b': 0, 'c': 0}"
      ]
     },
     "execution_count": 22,
     "metadata": {},
     "output_type": "execute_result"
    }
   ],
   "source": [
    "keys = ['a', 'b', 'c']\n",
    "z = [0,0,0]\n",
    "dict(zip(keys, np.zeros(len(keys), dtype=int).tolist()))"
   ]
  },
  {
   "cell_type": "code",
   "execution_count": 20,
   "metadata": {},
   "outputs": [
    {
     "data": {
      "text/plain": [
       "[0.0, 0.0, 0.0]"
      ]
     },
     "execution_count": 20,
     "metadata": {},
     "output_type": "execute_result"
    }
   ],
   "source": [
    "np.zeros((len(keys))).tolist()"
   ]
  },
  {
   "cell_type": "code",
   "execution_count": 5,
   "metadata": {},
   "outputs": [],
   "source": [
    "import constants"
   ]
  },
  {
   "cell_type": "code",
   "execution_count": 26,
   "metadata": {},
   "outputs": [
    {
     "data": {
      "text/plain": [
       "['homeless', 'education', 'food']"
      ]
     },
     "execution_count": 26,
     "metadata": {},
     "output_type": "execute_result"
    }
   ],
   "source": [
    "constants.KEYWORDS"
   ]
  },
  {
   "cell_type": "code",
   "execution_count": 61,
   "metadata": {},
   "outputs": [],
   "source": [
    "def tag_visible(element):\n",
    "    if element.parent.name in ['style', 'script', 'head', 'title', 'meta', '[document]']:\n",
    "        return False\n",
    "    if isinstance(element, Comment):\n",
    "        return False\n",
    "    return True\n",
    "\n",
    "def extract_meaning(text):\n",
    "    keyword_freq = dict(zip(constants.KEYWORDS, np.zeros(len(constants.KEYWORDS), dtype=int).tolist()))\n",
    "    for word in text.split():\n",
    "        matches = [key in word.strip() for key in constants.KEYWORDS]\n",
    "        if any(matches):\n",
    "            keyword_freq[constants.KEYWORDS[matches.index(True)]] += 1\n",
    "    return keyword_freq\n",
    "        \n",
    "def main():\n",
    "    html = urllib.request.urlopen('https://www.nytimes.com/interactive/2019/11/19/nyregion/student-homelessness-nyc.html').read()\n",
    "    soup = BeautifulSoup(html, 'html.parser')\n",
    "    texts = soup.findAll(text=True)\n",
    "    article_text = filter(tag_visible, texts)\n",
    "    keyword_freq = extract_meaning(u\" \".join(t.strip() for t in article_text))\n",
    "    print(keyword_freq)\n"
   ]
  },
  {
   "cell_type": "code",
   "execution_count": 62,
   "metadata": {},
   "outputs": [
    {
     "name": "stdout",
     "output_type": "stream",
     "text": [
      "{'homeless': 10, 'education': 1, 'food': 1}\n"
     ]
    }
   ],
   "source": [
    "main()"
   ]
  },
  {
   "cell_type": "code",
   "execution_count": null,
   "metadata": {},
   "outputs": [],
   "source": []
  }
 ],
 "metadata": {
  "kernelspec": {
   "display_name": "Python 3",
   "language": "python",
   "name": "python3"
  },
  "language_info": {
   "codemirror_mode": {
    "name": "ipython",
    "version": 3
   },
   "file_extension": ".py",
   "mimetype": "text/x-python",
   "name": "python",
   "nbconvert_exporter": "python",
   "pygments_lexer": "ipython3",
   "version": "3.7.3"
  }
 },
 "nbformat": 4,
 "nbformat_minor": 2
}
